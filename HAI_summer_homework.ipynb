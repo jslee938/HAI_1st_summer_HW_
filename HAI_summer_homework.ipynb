{
  "nbformat": 4,
  "nbformat_minor": 0,
  "metadata": {
    "colab": {
      "provenance": [],
      "authorship_tag": "ABX9TyPSIFgZDUSDU864A1IU+KW6",
      "include_colab_link": true
    },
    "kernelspec": {
      "name": "python3",
      "display_name": "Python 3"
    },
    "language_info": {
      "name": "python"
    }
  },
  "cells": [
    {
      "cell_type": "markdown",
      "metadata": {
        "id": "view-in-github",
        "colab_type": "text"
      },
      "source": [
        "<a href=\"https://colab.research.google.com/github/jslee938/HAI_1st_summer_HW_/blob/main/HAI_summer_homework.ipynb\" target=\"_parent\"><img src=\"https://colab.research.google.com/assets/colab-badge.svg\" alt=\"Open In Colab\"/></a>"
      ]
    },
    {
      "cell_type": "code",
      "execution_count": 6,
      "metadata": {
        "id": "DIJt2dMYk1x-"
      },
      "outputs": [],
      "source": [
        "import os\n",
        "import random\n",
        "from glob import glob\n",
        "from PIL import Image\n",
        "from tqdm import tqdm\n",
        "from google.colab import drive\n",
        "import matplotlib.pyplot as plt\n",
        "import torch\n",
        "import torch.nn as nn\n",
        "from torch.utils.data import Dataset, DataLoader\n",
        "import torchvision.transforms.functional as TF\n",
        "import torchvision.transforms as T\n",
        "from torchvision.transforms import ToPILImage"
      ]
    },
    {
      "cell_type": "code",
      "source": [
        "#A\n",
        "\n",
        "drive.mount('/content/drive')\n",
        "\n",
        "device = torch.device('cuda' if torch.cuda.is_available() else 'cpu')\n",
        "print(f\"Device : {device}\")"
      ],
      "metadata": {
        "id": "JFELxAARmIbl",
        "colab": {
          "base_uri": "https://localhost:8080/"
        },
        "outputId": "d0cec9e1-f9be-421a-a2c7-df83d246abe4"
      },
      "execution_count": 7,
      "outputs": [
        {
          "output_type": "stream",
          "name": "stdout",
          "text": [
            "Drive already mounted at /content/drive; to attempt to forcibly remount, call drive.mount(\"/content/drive\", force_remount=True).\n",
            "Device : cpu\n"
          ]
        }
      ]
    },
    {
      "cell_type": "code",
      "source": [
        "#B\n",
        "\n",
        "class DIV2K_Dataset(Dataset):\n",
        "    def __init__(self, imgs, crop_size=64, upscale_factor=2):\n",
        "        self.imgs = imgs\n",
        "        self.crop_size = crop_size\n",
        "        self.upscale_factor = upscale_factor\n",
        "\n",
        "    def __len__(self):\n",
        "        return len(self.imgs)\n",
        "\n",
        "    def __getitem__(self, i):\n",
        "        x, y = self.__transform__(i)\n",
        "        return x, y\n",
        "\n",
        "    def __transform__(self, i):\n",
        "        p = self.imgs[i]\n",
        "        img = Image.open(p).convert(\"RGB\")\n",
        "        x = T.CenterCrop(self.crop_size)(img)\n",
        "        rate = self.crop_size // self.upscale_factor\n",
        "        x_size = (rate, rate)\n",
        "        y = TF.resize(x, x_size, interpolation=Image.BICUBIC)\n",
        "        y = TF.resize(y, (self.crop_size, self.crop_size), interpolation=Image.BICUBIC)\n",
        "        x_t = TF.to_tensor(x)\n",
        "        y_t = TF.to_tensor(y)\n",
        "        return x_t, y_t\n",
        "\n",
        "DATA_ROOT = '/content/drive/MyDrive/DIV2K_519sampled/DIV2K_519sampled'\n",
        "all_imgs = [os.path.join(DATA_ROOT, f) for f in os.listdir(DATA_ROOT) if f.lower().endswith(('.png'))]\n",
        "print(f\"Found {len(all_imgs)} images.\")\n",
        "\n",
        "random.shuffle(all_imgs)\n",
        "train_imgs = all_imgs[:363]\n",
        "val_imgs = all_imgs[363:363 + 104]\n",
        "test_imgs = all_imgs[363 + 104:363 + 104 + 52]\n",
        "\n",
        "print(f\"Train images: {len(train_imgs)}\")\n",
        "print(f\"Validation images: {len(val_imgs)}\")\n",
        "print(f\"Test images: {len(test_imgs)}\")\n",
        "\n",
        "train_ds = DIV2K_Dataset(train_imgs)\n",
        "val_ds = DIV2K_Dataset(val_imgs)\n",
        "test_ds = DIV2K_Dataset(test_imgs)"
      ],
      "metadata": {
        "id": "faV7SNzWncpO",
        "colab": {
          "base_uri": "https://localhost:8080/"
        },
        "outputId": "7f6cf5dd-6f98-45c0-879e-a4d666decf91"
      },
      "execution_count": 8,
      "outputs": [
        {
          "output_type": "stream",
          "name": "stdout",
          "text": [
            "Found 519 images.\n",
            "Train images: 363\n",
            "Validation images: 104\n",
            "Test images: 52\n"
          ]
        }
      ]
    },
    {
      "cell_type": "code",
      "source": [
        "#C\n",
        "\n",
        "class SR_CNN(nn.Module):\n",
        "    def __init__(self, in_channels=3):\n",
        "        super().__init__()\n",
        "        self.darknet = nn.Sequential(\n",
        "            nn.Conv2d(in_channels, 64, 9, 1, 4),\n",
        "            nn.ReLU(True),\n",
        "            nn.Conv2d(64, 32, 1, 1, 0),\n",
        "            nn.ReLU(True),\n",
        "            nn.Conv2d(32, in_channels, 5, 1, 2)\n",
        "        )\n",
        "\n",
        "    def forward(self, x):\n",
        "        return self.darknet(x)"
      ],
      "metadata": {
        "id": "vd8z7x7nneeR"
      },
      "execution_count": 9,
      "outputs": []
    },
    {
      "cell_type": "code",
      "source": [
        "#D\n",
        "\n",
        "EPOCHS = 50\n",
        "BATCH_SIZE = 32\n",
        "LEARNING_RATE = 0.001\n",
        "NUM_WORKERS = os.cpu_count() // 2\n",
        "model = SR_CNN().to(device)\n",
        "loss_fn = nn.MSELoss()\n",
        "optimizer = torch.optim.Adam(model.parameters(), lr=LEARNING_RATE)\n",
        "\n",
        "train_loader = DataLoader(train_ds, batch_size=BATCH_SIZE, shuffle=True, num_workers=NUM_WORKERS, pin_memory=True, drop_last=True)\n",
        "val_loader = DataLoader(val_ds, batch_size=BATCH_SIZE, shuffle=True, num_workers=NUM_WORKERS, pin_memory=True, drop_last=True)\n",
        "test_loader = DataLoader(test_ds, batch_size=1, shuffle=False, num_workers=1)\n",
        "\n",
        "train_losses = []\n",
        "val_losses = []\n",
        "\n",
        "best_val_loss = float('inf')\n",
        "best_epoch = 0\n",
        "best_model_state = None\n",
        "best_optim_state = None\n",
        "\n",
        "for epoch in range(1, EPOCHS+1):\n",
        "    model.train()\n",
        "    train_loss = 0.0\n",
        "    for lr_t, hr_t in train_loader:\n",
        "        lr_t = lr_t.to(device)\n",
        "        hr_t = hr_t.to(device)\n",
        "        optimizer.zero_grad()\n",
        "        out = model(lr_t)\n",
        "        loss = loss_fn(out, hr_t)\n",
        "        loss.backward()\n",
        "        optimizer.step()\n",
        "        train_loss += loss.item() * lr_t.size(0)\n",
        "    train_loss /= len(train_loader.dataset)\n",
        "\n",
        "    model.eval()\n",
        "    val_loss = 0.0\n",
        "    with torch.no_grad():\n",
        "        for lr_t, hr_t in val_loader:\n",
        "            lr_t = lr_t.to(device)\n",
        "            hr_t = hr_t.to(device)\n",
        "            out = model(lr_t)\n",
        "            loss = loss_fn(out, hr_t)\n",
        "            val_loss += loss.item() * lr_t.size(0)\n",
        "    val_loss /= len(val_loader.dataset)\n",
        "\n",
        "    print(f\"Epoch {epoch:02d}  Train loss: {train_loss:.6f}  Val loss: {val_loss:.6f}\")\n",
        "\n",
        "    if val_loss < best_val_loss:\n",
        "        print(f\"Validation loss improved from {best_val_loss:.6f} to {val_loss:.6f}\")\n",
        "        best_val_loss = val_loss\n",
        "        best_epoch = epoch\n",
        "        best_model_state = model.state_dict()\n",
        "        best_optim_state = optimizer.state_dict()"
      ],
      "metadata": {
        "id": "0n_bgsb4ngU8",
        "colab": {
          "base_uri": "https://localhost:8080/"
        },
        "outputId": "fa031836-942b-4b5b-f733-9c97fc40abfc"
      },
      "execution_count": 10,
      "outputs": [
        {
          "output_type": "stream",
          "name": "stderr",
          "text": [
            "/usr/local/lib/python3.12/dist-packages/torch/utils/data/dataloader.py:666: UserWarning: 'pin_memory' argument is set as true but no accelerator is found, then device pinned memory won't be used.\n",
            "  warnings.warn(warn_msg)\n"
          ]
        },
        {
          "output_type": "stream",
          "name": "stdout",
          "text": [
            "Epoch 01  Train loss: 0.063401  Val loss: 0.028081\n",
            "Validation loss improved from inf to 0.028081\n",
            "Epoch 02  Train loss: 0.021727  Val loss: 0.021553\n",
            "Validation loss improved from 0.028081 to 0.021553\n",
            "Epoch 03  Train loss: 0.017912  Val loss: 0.015221\n",
            "Validation loss improved from 0.021553 to 0.015221\n",
            "Epoch 04  Train loss: 0.012492  Val loss: 0.009130\n",
            "Validation loss improved from 0.015221 to 0.009130\n",
            "Epoch 05  Train loss: 0.007686  Val loss: 0.005764\n",
            "Validation loss improved from 0.009130 to 0.005764\n",
            "Epoch 06  Train loss: 0.005443  Val loss: 0.004876\n",
            "Validation loss improved from 0.005764 to 0.004876\n",
            "Epoch 07  Train loss: 0.004435  Val loss: 0.003917\n",
            "Validation loss improved from 0.004876 to 0.003917\n",
            "Epoch 08  Train loss: 0.004035  Val loss: 0.004265\n",
            "Epoch 09  Train loss: 0.004069  Val loss: 0.002774\n",
            "Validation loss improved from 0.003917 to 0.002774\n",
            "Epoch 10  Train loss: 0.003209  Val loss: 0.002572\n",
            "Validation loss improved from 0.002774 to 0.002572\n",
            "Epoch 11  Train loss: 0.002694  Val loss: 0.002414\n",
            "Validation loss improved from 0.002572 to 0.002414\n",
            "Epoch 12  Train loss: 0.002221  Val loss: 0.002024\n",
            "Validation loss improved from 0.002414 to 0.002024\n",
            "Epoch 13  Train loss: 0.001869  Val loss: 0.001678\n",
            "Validation loss improved from 0.002024 to 0.001678\n",
            "Epoch 14  Train loss: 0.001729  Val loss: 0.001550\n",
            "Validation loss improved from 0.001678 to 0.001550\n",
            "Epoch 15  Train loss: 0.001510  Val loss: 0.001283\n",
            "Validation loss improved from 0.001550 to 0.001283\n",
            "Epoch 16  Train loss: 0.001398  Val loss: 0.001334\n",
            "Epoch 17  Train loss: 0.001269  Val loss: 0.001145\n",
            "Validation loss improved from 0.001283 to 0.001145\n",
            "Epoch 18  Train loss: 0.001244  Val loss: 0.001244\n",
            "Epoch 19  Train loss: 0.001146  Val loss: 0.000946\n",
            "Validation loss improved from 0.001145 to 0.000946\n",
            "Epoch 20  Train loss: 0.000980  Val loss: 0.000902\n",
            "Validation loss improved from 0.000946 to 0.000902\n",
            "Epoch 21  Train loss: 0.000928  Val loss: 0.000898\n",
            "Validation loss improved from 0.000902 to 0.000898\n",
            "Epoch 22  Train loss: 0.000976  Val loss: 0.000860\n",
            "Validation loss improved from 0.000898 to 0.000860\n",
            "Epoch 23  Train loss: 0.001092  Val loss: 0.001006\n",
            "Epoch 24  Train loss: 0.000876  Val loss: 0.000789\n",
            "Validation loss improved from 0.000860 to 0.000789\n",
            "Epoch 25  Train loss: 0.000789  Val loss: 0.000747\n",
            "Validation loss improved from 0.000789 to 0.000747\n",
            "Epoch 26  Train loss: 0.000787  Val loss: 0.000745\n",
            "Validation loss improved from 0.000747 to 0.000745\n",
            "Epoch 27  Train loss: 0.000734  Val loss: 0.000721\n",
            "Validation loss improved from 0.000745 to 0.000721\n",
            "Epoch 28  Train loss: 0.000685  Val loss: 0.000629\n",
            "Validation loss improved from 0.000721 to 0.000629\n",
            "Epoch 29  Train loss: 0.000654  Val loss: 0.000612\n",
            "Validation loss improved from 0.000629 to 0.000612\n",
            "Epoch 30  Train loss: 0.000663  Val loss: 0.000699\n",
            "Epoch 31  Train loss: 0.002361  Val loss: 0.008939\n",
            "Epoch 32  Train loss: 0.003035  Val loss: 0.001946\n",
            "Epoch 33  Train loss: 0.001002  Val loss: 0.000629\n",
            "Epoch 34  Train loss: 0.000705  Val loss: 0.000663\n",
            "Epoch 35  Train loss: 0.000622  Val loss: 0.000593\n",
            "Validation loss improved from 0.000612 to 0.000593\n",
            "Epoch 36  Train loss: 0.000601  Val loss: 0.000529\n",
            "Validation loss improved from 0.000593 to 0.000529\n",
            "Epoch 37  Train loss: 0.000556  Val loss: 0.000522\n",
            "Validation loss improved from 0.000529 to 0.000522\n",
            "Epoch 38  Train loss: 0.000535  Val loss: 0.000525\n",
            "Epoch 39  Train loss: 0.000527  Val loss: 0.000564\n",
            "Epoch 40  Train loss: 0.000510  Val loss: 0.000454\n",
            "Validation loss improved from 0.000522 to 0.000454\n",
            "Epoch 41  Train loss: 0.000467  Val loss: 0.000407\n",
            "Validation loss improved from 0.000454 to 0.000407\n",
            "Epoch 42  Train loss: 0.000439  Val loss: 0.000401\n",
            "Validation loss improved from 0.000407 to 0.000401\n",
            "Epoch 43  Train loss: 0.000431  Val loss: 0.000404\n",
            "Epoch 44  Train loss: 0.000412  Val loss: 0.000401\n",
            "Epoch 45  Train loss: 0.000400  Val loss: 0.000368\n",
            "Validation loss improved from 0.000401 to 0.000368\n",
            "Epoch 46  Train loss: 0.000395  Val loss: 0.000368\n",
            "Validation loss improved from 0.000368 to 0.000368\n",
            "Epoch 47  Train loss: 0.000429  Val loss: 0.000717\n",
            "Epoch 48  Train loss: 0.000495  Val loss: 0.000430\n",
            "Epoch 49  Train loss: 0.000435  Val loss: 0.000332\n",
            "Validation loss improved from 0.000368 to 0.000332\n",
            "Epoch 50  Train loss: 0.000380  Val loss: 0.000306\n",
            "Validation loss improved from 0.000332 to 0.000306\n"
          ]
        }
      ]
    },
    {
      "cell_type": "code",
      "source": [
        "#E\n",
        "\n",
        "CHECKPOINT_PATH = \"srcnn_checkpoint.pth\"\n",
        "print(f\"Best epoch: {best_epoch}\")\n",
        "print(f\"Best validation loss: {best_val_loss}\")\n",
        "torch.save({\n",
        "    'epoch': best_epoch,\n",
        "    'model_state_dict': best_model_state,\n",
        "    'optimizer_state_dict': best_optim_state,\n",
        "    'loss': best_val_loss,\n",
        "}, CHECKPOINT_PATH)\n",
        "ckpt = torch.load(CHECKPOINT_PATH, map_location=device)\n",
        "new_model = SR_CNN().to(device)\n",
        "new_model.load_state_dict(ckpt[\"model_state_dict\"])\n",
        "new_model.to(device).eval()"
      ],
      "metadata": {
        "id": "IBAaI412nizs",
        "colab": {
          "base_uri": "https://localhost:8080/"
        },
        "outputId": "857315bf-3bda-4adc-8058-511e6e7d036a"
      },
      "execution_count": 11,
      "outputs": [
        {
          "output_type": "stream",
          "name": "stdout",
          "text": [
            "Best epoch: 50\n",
            "Best validation loss: 0.0003059253033895332\n"
          ]
        },
        {
          "output_type": "execute_result",
          "data": {
            "text/plain": [
              "SR_CNN(\n",
              "  (darknet): Sequential(\n",
              "    (0): Conv2d(3, 64, kernel_size=(9, 9), stride=(1, 1), padding=(4, 4))\n",
              "    (1): ReLU(inplace=True)\n",
              "    (2): Conv2d(64, 32, kernel_size=(1, 1), stride=(1, 1))\n",
              "    (3): ReLU(inplace=True)\n",
              "    (4): Conv2d(32, 3, kernel_size=(5, 5), stride=(1, 1), padding=(2, 2))\n",
              "  )\n",
              ")"
            ]
          },
          "metadata": {},
          "execution_count": 11
        }
      ]
    },
    {
      "cell_type": "code",
      "source": [
        "save_dir = \"drive/MyDrive/content/SR_outputs/\"\n",
        "os.makedirs(save_dir, exist_ok=True)\n",
        "\n",
        "with torch.no_grad():\n",
        "    for idx, batch in enumerate(test_loader):\n",
        "        inputs, targets = batch[0].to(device), batch[1].to(device)\n",
        "        outputs = new_model(inputs)\n",
        "\n",
        "        for i in range(outputs.size(0)):\n",
        "            output_img = outputs[i].cpu().clamp(0.0, 1.0)\n",
        "            tmp = idx * test_loader.batch_size + i + 1\n",
        "            if tmp // 10 != 0:\n",
        "              save_path = os.path.join(save_dir, f\"SR_output_{idx * test_loader.batch_size + i + 1}.png\")\n",
        "            else:\n",
        "              save_path = os.path.join(save_dir, f\"SR_output_0{idx * test_loader.batch_size + i + 1}.png\")\n",
        "            TF.to_pil_image(output_img).save(save_path)\n",
        "\n",
        "random_idx = random.randint(0, len(test_ds) - 1)\n",
        "print(f\"Random index: {random_idx}\")\n",
        "input, target = test_ds[random_idx]\n",
        "output = new_model(input.unsqueeze(0).to(device))\n",
        "output = output.squeeze(0).cpu().detach()\n",
        "output = output.clamp(0.0, 1.0)\n",
        "\n",
        "plt.figure(figsize=(15, 5))\n",
        "plt.subplot(1, 3, 1)\n",
        "plt.imshow(TF.to_pil_image(input))\n",
        "plt.title(\"Input (LR)\")\n",
        "\n",
        "plt.subplot(1, 3, 2)\n",
        "plt.imshow(TF.to_pil_image(target))\n",
        "plt.title(\"Target (HR)\")\n",
        "\n",
        "plt.subplot(1, 3, 3)\n",
        "plt.imshow(TF.to_pil_image(output))\n",
        "plt.title(\"Output (Predicted HR)\")\n",
        "\n",
        "plt.show()"
      ],
      "metadata": {
        "id": "j7hyfJWYnktA",
        "colab": {
          "base_uri": "https://localhost:8080/",
          "height": 327
        },
        "outputId": "02751ebd-5a61-4a41-e4c5-06ef9c8a75de"
      },
      "execution_count": 12,
      "outputs": [
        {
          "output_type": "stream",
          "name": "stdout",
          "text": [
            "Random index: 45\n"
          ]
        },
        {
          "output_type": "display_data",
          "data": {
            "text/plain": [
              "<Figure size 1500x500 with 3 Axes>"
            ],
            "image/png": "[encoded data removed]"
          },
          "metadata": {}
        }
      ]
    }
  ]
}